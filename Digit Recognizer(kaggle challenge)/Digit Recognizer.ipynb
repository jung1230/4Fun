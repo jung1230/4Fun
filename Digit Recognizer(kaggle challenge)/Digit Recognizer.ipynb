{
 "cells": [
  {
   "cell_type": "markdown",
   "metadata": {},
   "source": [
    "# Digit Recognizer\n",
    "Kaggle: https://www.kaggle.com/competitions/digit-recognizer/data\n",
    "\n",
    "Algorithms that have been tried on it and their levels of success, can be found at http://yann.lecun.com/exdb/mnist/index.html.\n",
    "\n",
    "Ref: https://mks.tw/2880/數據分析-踏上-kaggle-之路-使用-knn-預測-digit-recognizer\n",
    "\n",
    "# Data Observation and Preparation\n",
    "Each image is 28 pixels in height and 28 pixels in width, for a total of 784 pixels in total. Each pixel has a single pixel-value associated with it, indicating the lightness or darkness of that pixel, with higher numbers meaning darker. This pixel-value is an integer between 0 and 255, inclusive.\n",
    "\n",
    "The training data set, (train.csv), has 785 columns. The first column, called \"label\", is the digit that was drawn by the user. The rest of the columns contain the pixel-values of the associated image.\n",
    "\n",
    "Each pixel column in the training set has a name like pixelx, where x is an integer between 0 and 783, inclusive. To locate this pixel on the image, suppose that we have decomposed x as x = i * 28 + j, where i and j are integers between 0 and 27, inclusive. Then pixelx is located on row i and column j of a 28 x 28 matrix, (indexing by zero)."
   ]
  },
  {
   "cell_type": "code",
   "execution_count": 22,
   "metadata": {},
   "outputs": [
    {
     "name": "stdout",
     "output_type": "stream",
     "text": [
      "(42000, 785)\n",
      "(42000,)\n",
      "(42000, 784)\n",
      "(28, 28)\n",
      "The first number is 1\n"
     ]
    },
    {
     "data": {
      "image/png": "[encoded data removed]",
      "text/plain": [
       "<Figure size 640x480 with 1 Axes>"
      ]
     },
     "metadata": {},
     "output_type": "display_data"
    },
    {
     "data": {
      "image/png": "[encoded data removed]",
      "text/plain": [
       "<Figure size 640x480 with 1 Axes>"
      ]
     },
     "metadata": {},
     "output_type": "display_data"
    }
   ],
   "source": [
    "import pandas as pd\n",
    "import matplotlib.pyplot as plt\n",
    "\n",
    "# Load data\n",
    "TrainData = pd.read_csv('input/train.csv')\n",
    "print(TrainData.shape)\n",
    "\n",
    "# Split data into x and y\n",
    "Train_y = TrainData.iloc[:,0] # iloc is a method to select rows and columns from a DataFrame by their integer index positions.\n",
    "print(Train_y.shape)\n",
    "Train_x = TrainData.iloc[:,1:] \n",
    "print(Train_x.shape)\n",
    "\n",
    "# try to plt the first number \n",
    "first_num = Train_x.iloc[0,:]\n",
    "first_num = first_num.values.reshape(28, 28)\n",
    "print(first_num.shape)\n",
    "print(f'The first number is {Train_y.iloc[0]}')\n",
    "plt.imshow(first_num, cmap='gray')\n",
    "plt.axis('off')  # Turn off axis labels\n",
    "plt.show()\n",
    "\n",
    "# observe the data detribution\n",
    "val_count = Train_y.value_counts().sort_index()  # Sort by index (digit label)\n",
    "val_count.plot(kind='bar')\n",
    "plt.show()"
   ]
  },
  {
   "cell_type": "markdown",
   "metadata": {},
   "source": [
    "# Feature Engineering\n",
    "Thresholding, create binary images from grayscale images"
   ]
  },
  {
   "cell_type": "code",
   "execution_count": 23,
   "metadata": {},
   "outputs": [
    {
     "data": {
      "image/png": "[encoded data removed]",
      "text/plain": [
       "<Figure size 640x480 with 1 Axes>"
      ]
     },
     "metadata": {},
     "output_type": "display_data"
    },
    {
     "data": {
      "image/png": "[encoded data removed]",
      "text/plain": [
       "<Figure size 640x480 with 1 Axes>"
      ]
     },
     "metadata": {},
     "output_type": "display_data"
    },
    {
     "name": "stderr",
     "output_type": "stream",
     "text": [
      "C:\\Users\\alanc\\AppData\\Local\\Temp\\ipykernel_10732\\3541544073.py:27: SettingWithCopyWarning: \n",
      "A value is trying to be set on a copy of a slice from a DataFrame\n",
      "\n",
      "See the caveats in the documentation: https://pandas.pydata.org/pandas-docs/stable/user_guide/indexing.html#returning-a-view-versus-a-copy\n",
      "  Train_x.loc[index] = binary_row\n"
     ]
    },
    {
     "name": "stdout",
     "output_type": "stream",
     "text": [
      "The output is showing 0\n"
     ]
    },
    {
     "data": {
      "image/png": "[encoded data removed]",
      "text/plain": [
       "<Figure size 640x480 with 1 Axes>"
      ]
     },
     "metadata": {},
     "output_type": "display_data"
    }
   ],
   "source": [
    "import numpy as np\n",
    "\n",
    "# find the better threshold by using the first data as comparison\n",
    "test1 = Train_x.iloc[0,:].copy()\n",
    "test2 = Train_x.iloc[0,:].copy()\n",
    "\n",
    "threshold = 150 \n",
    "test1 = np.where(test1 > threshold, 255, 0)\n",
    "test1 = test1.reshape(28, 28)\n",
    "plt.imshow(test1, cmap='gray', vmin=0, vmax=255)\n",
    "plt.axis('off') \n",
    "plt.show()\n",
    "\n",
    "threshold = 200 \n",
    "test2 = np.where(test2 > threshold, 255, 0)\n",
    "test2 = test2.reshape(28, 28)\n",
    "plt.imshow(test2, cmap='gray', vmin=0, vmax=255)\n",
    "plt.axis('off') \n",
    "plt.show()\n",
    "\n",
    "# 150 seems to be better, let's use 150 as our threshold\n",
    "threshold = 150 \n",
    "for index, row in Train_x.iterrows(): # index: The index label of the row. row: A pandas Series object representing the data in that row.\n",
    "    # Apply thresholding to each pixel in the row\n",
    "    binary_row = np.where(row > threshold, 255, 0)\n",
    "    # Update the row in Train_x with the binary values\n",
    "    Train_x.loc[index] = binary_row\n",
    "\n",
    "# try to plt the random number \n",
    "test_num = Train_x.iloc[5,:]\n",
    "test_num = test_num.values.reshape(28, 28)\n",
    "print(f'The output is showing {Train_y[5]}')\n",
    "plt.imshow(test_num, cmap='gray', vmin=0, vmax=255)\n",
    "plt.axis('off') \n",
    "plt.show()"
   ]
  },
  {
   "cell_type": "markdown",
   "metadata": {},
   "source": [
    "# Final data adjustment\n",
    "1. split data into train and validation set\n",
    "2. image value is between 0 and 255, scale it to between 0 and 1.\n",
    "3. One-Hot Encoding. One-hot encoding is a standard way to represent categorical data in a numerical format that a neural network can process, make it compatible with Output Layer\n",
    "4. Reshape the data\n"
   ]
  },
  {
   "cell_type": "code",
   "execution_count": 24,
   "metadata": {},
   "outputs": [
    {
     "name": "stdout",
     "output_type": "stream",
     "text": [
      "x_train shape: (33600, 784)\n",
      "x_val shape: (8400, 784)\n",
      "x_train shape: (33600, 28, 28, 1)\n",
      "x_val shape: (8400, 28, 28, 1)\n"
     ]
    }
   ],
   "source": [
    "from sklearn.model_selection import train_test_split\n",
    "from tensorflow.keras.utils import to_categorical\n",
    "\n",
    "# split data into training and validation set into 80% training and 20% validation\n",
    "x_train, x_val, y_train, y_val = train_test_split(Train_x, Train_y, test_size = 0.2, random_state = 0) # set random state as an integer to allow reproducibility\n",
    "\n",
    "# scale data to between 0 and 1\n",
    "x_train =  x_train/255\n",
    "x_val =  x_val/255\n",
    "\n",
    "# One hot encoding\n",
    "y_train = to_categorical(y_train)\n",
    "y_val = to_categorical(y_val)\n",
    "\n",
    "# Reshape the data to (n_samples, img_rows, img_cols, 1), the 1 at the end of the reshape operation represents the number of color channels in the image\n",
    "print(\"x_train shape:\", x_train.shape)  \n",
    "print(\"x_val shape:\", x_val.shape) \n",
    "x_train = x_train.values.reshape(x_train.shape[0], 28, 28, 1)\n",
    "x_val = x_val.values.reshape(x_val.shape[0], 28, 28, 1)\n",
    "print(\"x_train shape:\", x_train.shape)  # Should output (33600, 28, 28, 1)\n",
    "print(\"x_val shape:\", x_val.shape) "
   ]
  },
  {
   "cell_type": "markdown",
   "metadata": {},
   "source": [
    "# Train a CNN model"
   ]
  },
  {
   "cell_type": "code",
   "execution_count": 36,
   "metadata": {},
   "outputs": [
    {
     "name": "stdout",
     "output_type": "stream",
     "text": [
      "Model: \"model\"\n",
      "_________________________________________________________________\n",
      " Layer (type)                Output Shape              Param #   \n",
      "=================================================================\n",
      " input_1 (InputLayer)        [(None, 28, 28, 1)]       0         \n",
      "                                                                 \n",
      " conv2d (Conv2D)             (None, 26, 26, 32)        320       \n",
      "                                                                 \n",
      " max_pooling2d (MaxPooling2  (None, 13, 13, 32)        0         \n",
      " D)                                                              \n",
      "                                                                 \n",
      " conv2d_1 (Conv2D)           (None, 11, 11, 64)        18496     \n",
      "                                                                 \n",
      " max_pooling2d_1 (MaxPoolin  (None, 5, 5, 64)          0         \n",
      " g2D)                                                            \n",
      "                                                                 \n",
      " flatten (Flatten)           (None, 1600)              0         \n",
      "                                                                 \n",
      " dense (Dense)               (None, 64)                102464    \n",
      "                                                                 \n",
      " dense_1 (Dense)             (None, 10)                650       \n",
      "                                                                 \n",
      "=================================================================\n",
      "Total params: 121930 (476.29 KB)\n",
      "Trainable params: 121930 (476.29 KB)\n",
      "Non-trainable params: 0 (0.00 Byte)\n",
      "_________________________________________________________________\n",
      "Epoch 1/50\n",
      "1050/1050 [==============================] - 7s 6ms/step - loss: 0.2036 - accuracy: 0.9360 - val_loss: 0.0826 - val_accuracy: 0.9745\n",
      "Epoch 2/50\n",
      "1050/1050 [==============================] - 6s 5ms/step - loss: 0.0654 - accuracy: 0.9794 - val_loss: 0.0669 - val_accuracy: 0.9800\n",
      "Epoch 3/50\n",
      "1050/1050 [==============================] - 6s 6ms/step - loss: 0.0440 - accuracy: 0.9859 - val_loss: 0.0564 - val_accuracy: 0.9819\n",
      "Epoch 4/50\n",
      "1050/1050 [==============================] - 6s 6ms/step - loss: 0.0311 - accuracy: 0.9894 - val_loss: 0.0460 - val_accuracy: 0.9871\n",
      "Epoch 5/50\n",
      "1050/1050 [==============================] - 6s 6ms/step - loss: 0.0240 - accuracy: 0.9928 - val_loss: 0.0487 - val_accuracy: 0.9860\n",
      "Epoch 6/50\n",
      "1050/1050 [==============================] - 6s 6ms/step - loss: 0.0190 - accuracy: 0.9938 - val_loss: 0.0520 - val_accuracy: 0.9854\n",
      "Epoch 7/50\n",
      "1050/1050 [==============================] - ETA: 0s - loss: 0.0154 - accuracy: 0.9949Restoring model weights from the end of the best epoch: 4.\n",
      "1050/1050 [==============================] - 6s 6ms/step - loss: 0.0154 - accuracy: 0.9949 - val_loss: 0.0504 - val_accuracy: 0.9839\n",
      "Epoch 7: early stopping\n"
     ]
    },
    {
     "data": {
      "image/png": "[encoded data removed]",
      "text/plain": [
       "<Figure size 640x480 with 1 Axes>"
      ]
     },
     "metadata": {},
     "output_type": "display_data"
    },
    {
     "name": "stdout",
     "output_type": "stream",
     "text": [
      "\n",
      "------------------------------\n",
      "Epoch 1: Val_loss=0.08256509155035019, Val_accuracy=0.9745237827301025\n",
      "Epoch 2: Val_loss=0.06688035279512405, Val_accuracy=0.9800000190734863\n",
      "Epoch 3: Val_loss=0.05644334852695465, Val_accuracy=0.9819047451019287\n",
      "Epoch 4: Val_loss=0.0459640733897686, Val_accuracy=0.9871428608894348\n",
      "Epoch 5: Val_loss=0.04871540889143944, Val_accuracy=0.9859523773193359\n",
      "Epoch 6: Val_loss=0.0519692599773407, Val_accuracy=0.9853571653366089\n",
      "Epoch 7: Val_loss=0.05037751421332359, Val_accuracy=0.9839285612106323\n"
     ]
    }
   ],
   "source": [
    "import tensorflow as tf\n",
    "from tensorflow.keras.models import Model\n",
    "from tensorflow.keras.layers import Dense, Dropout, Flatten, Conv2D, MaxPooling2D, Input\n",
    "from tensorflow.keras.callbacks import EarlyStopping\n",
    "\n",
    "tf.keras.backend.clear_session()\n",
    "\n",
    "# Set seed for TensorFlow (graph-level)\n",
    "tf.random.set_seed(42)\n",
    "\n",
    "# Set seed for Python's random number generator (global level)\n",
    "np.random.seed(42)\n",
    "\n",
    "# ------------------------------------------- model code start -------------------------------------------\n",
    "# Define input shape\n",
    "input_shape = (28, 28, 1)\n",
    "inputs = Input(shape=input_shape)\n",
    "\n",
    "# Convolutional layers\n",
    "x = Conv2D(32, (3, 3), activation='relu')(inputs)\n",
    "x = MaxPooling2D((2, 2))(x)\n",
    "x = Conv2D(64, (3, 3), activation='relu')(x)\n",
    "x = MaxPooling2D((2, 2))(x)\n",
    "\n",
    "# Flatten and dense layers\n",
    "x = Flatten()(x)\n",
    "x = Dense(64, activation='relu')(x)\n",
    "outputs = Dense(10, activation='softmax')(x)  # 10 classes for MNIST\n",
    "\n",
    "# Create model\n",
    "model = tf.keras.models.Model(inputs=inputs, outputs=outputs)\n",
    "\n",
    "# Compile model\n",
    "model.compile(optimizer='adam',\n",
    "              loss='categorical_crossentropy',\n",
    "              metrics=['accuracy'])\n",
    "\n",
    "model.summary()\n",
    "\n",
    "# Define early stopping criteria\n",
    "early_stopping = EarlyStopping(monitor='val_loss', patience=3, verbose=1, restore_best_weights=True)\n",
    "\n",
    "history = model.fit(x_train, y_train, batch_size=32, epochs=50, validation_data=(x_val, y_val), callbacks=[early_stopping]) \n",
    "# ------------------------------------------- model code end -------------------------------------------\n",
    "\n",
    "def show_train_history(train_history):\n",
    "    plt.plot(train_history.history['accuracy'])\n",
    "    plt.plot(train_history.history['val_accuracy'])\n",
    "    plt.title('Training and Validation Accuracy')\n",
    "    plt.xlabel('Epochs')\n",
    "    plt.ylabel('Accuracy')\n",
    "    plt.legend(['Train', 'Validation'], loc='upper left')\n",
    "    plt.show()\n",
    "\n",
    "show_train_history(history)\n",
    "print(\"\\n------------------------------\")\n",
    "# Print validation loss and accuracy for each epoch\n",
    "for epoch in range(len(history.history['val_loss'])):\n",
    "    print(f\"Epoch {epoch + 1}: Val_loss={history.history['val_loss'][epoch]}, Val_accuracy={history.history['val_accuracy'][epoch]}\")"
   ]
  },
  {
   "cell_type": "markdown",
   "metadata": {},
   "source": [
    "# Train a ResNet(CNN) model"
   ]
  },
  {
   "cell_type": "code",
   "execution_count": null,
   "metadata": {},
   "outputs": [],
   "source": []
  },
  {
   "cell_type": "markdown",
   "metadata": {},
   "source": [
    "# Reference and Save the output"
   ]
  },
  {
   "cell_type": "code",
   "execution_count": 40,
   "metadata": {},
   "outputs": [
    {
     "name": "stdout",
     "output_type": "stream",
     "text": [
      "(28000, 784)\n"
     ]
    },
    {
     "data": {
      "image/png": "[encoded data removed]",
      "text/plain": [
       "<Figure size 640x480 with 1 Axes>"
      ]
     },
     "metadata": {},
     "output_type": "display_data"
    },
    {
     "name": "stdout",
     "output_type": "stream",
     "text": [
      "(28000, 28, 28, 1)\n",
      "875/875 [==============================] - 2s 2ms/step\n"
     ]
    },
    {
     "data": {
      "image/png": "[encoded data removed]",
      "text/plain": [
       "<Figure size 640x480 with 1 Axes>"
      ]
     },
     "metadata": {},
     "output_type": "display_data"
    }
   ],
   "source": [
    "TestData = pd.read_csv('input/test.csv')\n",
    "print(TestData.shape)\n",
    "\n",
    "\n",
    "\n",
    "threshold = 150 \n",
    "for index, row in TestData.iterrows(): # index: The index label of the row. row: A pandas Series object representing the data in that row.\n",
    "    # Apply thresholding to each pixel in the row\n",
    "    binary_row = np.where(row > threshold, 255, 0)\n",
    "    # Update the row in Train_x with the binary values\n",
    "    TestData.loc[index] = binary_row\n",
    "# try to plt the random number \n",
    "test_num = TestData.iloc[5,:]\n",
    "test_num = test_num.values.reshape(28, 28)\n",
    "plt.imshow(test_num, cmap='gray', vmin=0, vmax=255)\n",
    "plt.axis('off') \n",
    "plt.show()\n",
    "\n",
    "\n",
    "\n",
    "TestData = TestData/255\n",
    "TestData = TestData.values.reshape(TestData.shape[0], 28, 28, 1)\n",
    "print(TestData.shape)\n",
    "\n",
    "# Make predictions\n",
    "predictions = model.predict(TestData)\n",
    "\n",
    "# Example: Visualize a random test number and its predicted label\n",
    "test_index = 5\n",
    "test_num = TestData[test_index].reshape(28, 28)\n",
    "plt.imshow(test_num, cmap='gray', vmin=0, vmax=1)  \n",
    "plt.axis('off')\n",
    "plt.title(f'Predicted Label: {np.argmax(predictions[test_index])}')\n",
    "plt.show()\n",
    "\n",
    "\n",
    "\n",
    "# Save to csv\n",
    "ImageId = range(1, 28001) \n",
    "# Get predicted labels\n",
    "predicted_labels = np.argmax(predictions, axis=1) \n",
    "# Create a DataFrame with PassengerId and predictions\n",
    "results_df = pd.DataFrame({\n",
    "    'ImageId': ImageId,\n",
    "    'Label': predicted_labels  # Replace with your predicted values\n",
    "})\n",
    "results_df.to_csv('output/CNN_1st_try.csv', index=False)"
   ]
  }
 ],
 "metadata": {
  "kernelspec": {
   "display_name": "Python 3",
   "language": "python",
   "name": "python3"
  },
  "language_info": {
   "codemirror_mode": {
    "name": "ipython",
    "version": 3
   },
   "file_extension": ".py",
   "mimetype": "text/x-python",
   "name": "python",
   "nbconvert_exporter": "python",
   "pygments_lexer": "ipython3",
   "version": "3.11.9"
  }
 },
 "nbformat": 4,
 "nbformat_minor": 2
}
